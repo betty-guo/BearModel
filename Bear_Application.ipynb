{
  "nbformat": 4,
  "nbformat_minor": 0,
  "metadata": {
    "colab": {
      "provenance": []
    },
    "kernelspec": {
      "name": "python3",
      "display_name": "Python 3"
    },
    "language_info": {
      "name": "python"
    },
    "widgets": {
      "application/vnd.jupyter.widget-state+json": {
        "8612dfb627e249188980b85c831cd4df": {
          "model_module": "@jupyter-widgets/controls",
          "model_name": "FileUploadModel",
          "model_module_version": "1.5.0",
          "state": {
            "_counter": 2,
            "_dom_classes": [],
            "_model_module": "@jupyter-widgets/controls",
            "_model_module_version": "1.5.0",
            "_model_name": "FileUploadModel",
            "_view_count": null,
            "_view_module": "@jupyter-widgets/controls",
            "_view_module_version": "1.5.0",
            "_view_name": "FileUploadView",
            "accept": "",
            "button_style": "",
            "data": [
              null
            ],
            "description": "Upload",
            "description_tooltip": null,
            "disabled": false,
            "error": "",
            "icon": "upload",
            "layout": "IPY_MODEL_c88f1df7fd88492b950b6cdae3651ea1",
            "metadata": [
              {
                "name": "beagle.jpg",
                "type": "image/jpeg",
                "size": 9495,
                "lastModified": 1704396030694
              }
            ],
            "multiple": false,
            "style": "IPY_MODEL_2ecb4f712c884d188b997a260f1896da"
          }
        },
        "c88f1df7fd88492b950b6cdae3651ea1": {
          "model_module": "@jupyter-widgets/base",
          "model_name": "LayoutModel",
          "model_module_version": "1.2.0",
          "state": {
            "_model_module": "@jupyter-widgets/base",
            "_model_module_version": "1.2.0",
            "_model_name": "LayoutModel",
            "_view_count": null,
            "_view_module": "@jupyter-widgets/base",
            "_view_module_version": "1.2.0",
            "_view_name": "LayoutView",
            "align_content": null,
            "align_items": null,
            "align_self": null,
            "border": null,
            "bottom": null,
            "display": null,
            "flex": null,
            "flex_flow": null,
            "grid_area": null,
            "grid_auto_columns": null,
            "grid_auto_flow": null,
            "grid_auto_rows": null,
            "grid_column": null,
            "grid_gap": null,
            "grid_row": null,
            "grid_template_areas": null,
            "grid_template_columns": null,
            "grid_template_rows": null,
            "height": null,
            "justify_content": null,
            "justify_items": null,
            "left": null,
            "margin": null,
            "max_height": null,
            "max_width": null,
            "min_height": null,
            "min_width": null,
            "object_fit": null,
            "object_position": null,
            "order": null,
            "overflow": null,
            "overflow_x": null,
            "overflow_y": null,
            "padding": null,
            "right": null,
            "top": null,
            "visibility": null,
            "width": null
          }
        },
        "2ecb4f712c884d188b997a260f1896da": {
          "model_module": "@jupyter-widgets/controls",
          "model_name": "ButtonStyleModel",
          "model_module_version": "1.5.0",
          "state": {
            "_model_module": "@jupyter-widgets/controls",
            "_model_module_version": "1.5.0",
            "_model_name": "ButtonStyleModel",
            "_view_count": null,
            "_view_module": "@jupyter-widgets/base",
            "_view_module_version": "1.2.0",
            "_view_name": "StyleView",
            "button_color": null,
            "font_weight": ""
          }
        },
        "ea5d083a70eb4599af832c89a990fd5b": {
          "model_module": "@jupyter-widgets/output",
          "model_name": "OutputModel",
          "model_module_version": "1.0.0",
          "state": {
            "_dom_classes": [],
            "_model_module": "@jupyter-widgets/output",
            "_model_module_version": "1.0.0",
            "_model_name": "OutputModel",
            "_view_count": null,
            "_view_module": "@jupyter-widgets/output",
            "_view_module_version": "1.0.0",
            "_view_name": "OutputView",
            "layout": "IPY_MODEL_52d64c0835ba4b4d8dfb3aa5c18aaf97",
            "msg_id": "",
            "outputs": [
              {
                "output_type": "display_data",
                "data": {
                  "text/plain": "<PIL.Image.Image image mode=RGB size=128x85>",
                  "image/png": "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\n"
                },
                "metadata": {}
              }
            ]
          }
        },
        "52d64c0835ba4b4d8dfb3aa5c18aaf97": {
          "model_module": "@jupyter-widgets/base",
          "model_name": "LayoutModel",
          "model_module_version": "1.2.0",
          "state": {
            "_model_module": "@jupyter-widgets/base",
            "_model_module_version": "1.2.0",
            "_model_name": "LayoutModel",
            "_view_count": null,
            "_view_module": "@jupyter-widgets/base",
            "_view_module_version": "1.2.0",
            "_view_name": "LayoutView",
            "align_content": null,
            "align_items": null,
            "align_self": null,
            "border": null,
            "bottom": null,
            "display": null,
            "flex": null,
            "flex_flow": null,
            "grid_area": null,
            "grid_auto_columns": null,
            "grid_auto_flow": null,
            "grid_auto_rows": null,
            "grid_column": null,
            "grid_gap": null,
            "grid_row": null,
            "grid_template_areas": null,
            "grid_template_columns": null,
            "grid_template_rows": null,
            "height": null,
            "justify_content": null,
            "justify_items": null,
            "left": null,
            "margin": null,
            "max_height": null,
            "max_width": null,
            "min_height": null,
            "min_width": null,
            "object_fit": null,
            "object_position": null,
            "order": null,
            "overflow": null,
            "overflow_x": null,
            "overflow_y": null,
            "padding": null,
            "right": null,
            "top": null,
            "visibility": null,
            "width": null
          }
        },
        "c3c832b1df5e40858d952217f45294d3": {
          "model_module": "@jupyter-widgets/controls",
          "model_name": "LabelModel",
          "model_module_version": "1.5.0",
          "state": {
            "_dom_classes": [],
            "_model_module": "@jupyter-widgets/controls",
            "_model_module_version": "1.5.0",
            "_model_name": "LabelModel",
            "_view_count": null,
            "_view_module": "@jupyter-widgets/controls",
            "_view_module_version": "1.5.0",
            "_view_name": "LabelView",
            "description": "",
            "description_tooltip": null,
            "layout": "IPY_MODEL_10ad9507b8a949ea80dc6eaf4485ea0a",
            "placeholder": "​",
            "style": "IPY_MODEL_29544fd9fda74c36b1dbce51fb25ef31",
            "value": "Prediction: teddy; Probability: 0.9988"
          }
        },
        "10ad9507b8a949ea80dc6eaf4485ea0a": {
          "model_module": "@jupyter-widgets/base",
          "model_name": "LayoutModel",
          "model_module_version": "1.2.0",
          "state": {
            "_model_module": "@jupyter-widgets/base",
            "_model_module_version": "1.2.0",
            "_model_name": "LayoutModel",
            "_view_count": null,
            "_view_module": "@jupyter-widgets/base",
            "_view_module_version": "1.2.0",
            "_view_name": "LayoutView",
            "align_content": null,
            "align_items": null,
            "align_self": null,
            "border": null,
            "bottom": null,
            "display": null,
            "flex": null,
            "flex_flow": null,
            "grid_area": null,
            "grid_auto_columns": null,
            "grid_auto_flow": null,
            "grid_auto_rows": null,
            "grid_column": null,
            "grid_gap": null,
            "grid_row": null,
            "grid_template_areas": null,
            "grid_template_columns": null,
            "grid_template_rows": null,
            "height": null,
            "justify_content": null,
            "justify_items": null,
            "left": null,
            "margin": null,
            "max_height": null,
            "max_width": null,
            "min_height": null,
            "min_width": null,
            "object_fit": null,
            "object_position": null,
            "order": null,
            "overflow": null,
            "overflow_x": null,
            "overflow_y": null,
            "padding": null,
            "right": null,
            "top": null,
            "visibility": null,
            "width": null
          }
        },
        "29544fd9fda74c36b1dbce51fb25ef31": {
          "model_module": "@jupyter-widgets/controls",
          "model_name": "DescriptionStyleModel",
          "model_module_version": "1.5.0",
          "state": {
            "_model_module": "@jupyter-widgets/controls",
            "_model_module_version": "1.5.0",
            "_model_name": "DescriptionStyleModel",
            "_view_count": null,
            "_view_module": "@jupyter-widgets/base",
            "_view_module_version": "1.2.0",
            "_view_name": "StyleView",
            "description_width": ""
          }
        },
        "d3f927a655ac4cc1880e1af16babec98": {
          "model_module": "@jupyter-widgets/controls",
          "model_name": "ButtonModel",
          "model_module_version": "1.5.0",
          "state": {
            "_dom_classes": [],
            "_model_module": "@jupyter-widgets/controls",
            "_model_module_version": "1.5.0",
            "_model_name": "ButtonModel",
            "_view_count": null,
            "_view_module": "@jupyter-widgets/controls",
            "_view_module_version": "1.5.0",
            "_view_name": "ButtonView",
            "button_style": "",
            "description": "Classify",
            "disabled": false,
            "icon": "",
            "layout": "IPY_MODEL_5c366358fdaf4891b66396f79418bc8e",
            "style": "IPY_MODEL_cffe0182bef14a089db58b4a2dad4a82",
            "tooltip": ""
          }
        },
        "5c366358fdaf4891b66396f79418bc8e": {
          "model_module": "@jupyter-widgets/base",
          "model_name": "LayoutModel",
          "model_module_version": "1.2.0",
          "state": {
            "_model_module": "@jupyter-widgets/base",
            "_model_module_version": "1.2.0",
            "_model_name": "LayoutModel",
            "_view_count": null,
            "_view_module": "@jupyter-widgets/base",
            "_view_module_version": "1.2.0",
            "_view_name": "LayoutView",
            "align_content": null,
            "align_items": null,
            "align_self": null,
            "border": null,
            "bottom": null,
            "display": null,
            "flex": null,
            "flex_flow": null,
            "grid_area": null,
            "grid_auto_columns": null,
            "grid_auto_flow": null,
            "grid_auto_rows": null,
            "grid_column": null,
            "grid_gap": null,
            "grid_row": null,
            "grid_template_areas": null,
            "grid_template_columns": null,
            "grid_template_rows": null,
            "height": null,
            "justify_content": null,
            "justify_items": null,
            "left": null,
            "margin": null,
            "max_height": null,
            "max_width": null,
            "min_height": null,
            "min_width": null,
            "object_fit": null,
            "object_position": null,
            "order": null,
            "overflow": null,
            "overflow_x": null,
            "overflow_y": null,
            "padding": null,
            "right": null,
            "top": null,
            "visibility": null,
            "width": null
          }
        },
        "cffe0182bef14a089db58b4a2dad4a82": {
          "model_module": "@jupyter-widgets/controls",
          "model_name": "ButtonStyleModel",
          "model_module_version": "1.5.0",
          "state": {
            "_model_module": "@jupyter-widgets/controls",
            "_model_module_version": "1.5.0",
            "_model_name": "ButtonStyleModel",
            "_view_count": null,
            "_view_module": "@jupyter-widgets/base",
            "_view_module_version": "1.2.0",
            "_view_name": "StyleView",
            "button_color": null,
            "font_weight": ""
          }
        },
        "ba3854562e9643c1b6cf0a7c81942ca5": {
          "model_module": "@jupyter-widgets/controls",
          "model_name": "VBoxModel",
          "model_module_version": "1.5.0",
          "state": {
            "_dom_classes": [],
            "_model_module": "@jupyter-widgets/controls",
            "_model_module_version": "1.5.0",
            "_model_name": "VBoxModel",
            "_view_count": null,
            "_view_module": "@jupyter-widgets/controls",
            "_view_module_version": "1.5.0",
            "_view_name": "VBoxView",
            "box_style": "",
            "children": [
              "IPY_MODEL_ea01157ce7a74a4ab745bae5cb92c6a2",
              "IPY_MODEL_8612dfb627e249188980b85c831cd4df",
              "IPY_MODEL_d3f927a655ac4cc1880e1af16babec98",
              "IPY_MODEL_ea5d083a70eb4599af832c89a990fd5b",
              "IPY_MODEL_c3c832b1df5e40858d952217f45294d3"
            ],
            "layout": "IPY_MODEL_78c88cacfcbe465e9b8e9128f4430c68"
          }
        },
        "ea01157ce7a74a4ab745bae5cb92c6a2": {
          "model_module": "@jupyter-widgets/controls",
          "model_name": "LabelModel",
          "model_module_version": "1.5.0",
          "state": {
            "_dom_classes": [],
            "_model_module": "@jupyter-widgets/controls",
            "_model_module_version": "1.5.0",
            "_model_name": "LabelModel",
            "_view_count": null,
            "_view_module": "@jupyter-widgets/controls",
            "_view_module_version": "1.5.0",
            "_view_name": "LabelView",
            "description": "",
            "description_tooltip": null,
            "layout": "IPY_MODEL_0a917653e1274148929a49a15e456038",
            "placeholder": "​",
            "style": "IPY_MODEL_a05a7f311f0848bea8d84ef091ff4b76",
            "value": "Select your bear!"
          }
        },
        "78c88cacfcbe465e9b8e9128f4430c68": {
          "model_module": "@jupyter-widgets/base",
          "model_name": "LayoutModel",
          "model_module_version": "1.2.0",
          "state": {
            "_model_module": "@jupyter-widgets/base",
            "_model_module_version": "1.2.0",
            "_model_name": "LayoutModel",
            "_view_count": null,
            "_view_module": "@jupyter-widgets/base",
            "_view_module_version": "1.2.0",
            "_view_name": "LayoutView",
            "align_content": null,
            "align_items": null,
            "align_self": null,
            "border": null,
            "bottom": null,
            "display": null,
            "flex": null,
            "flex_flow": null,
            "grid_area": null,
            "grid_auto_columns": null,
            "grid_auto_flow": null,
            "grid_auto_rows": null,
            "grid_column": null,
            "grid_gap": null,
            "grid_row": null,
            "grid_template_areas": null,
            "grid_template_columns": null,
            "grid_template_rows": null,
            "height": null,
            "justify_content": null,
            "justify_items": null,
            "left": null,
            "margin": null,
            "max_height": null,
            "max_width": null,
            "min_height": null,
            "min_width": null,
            "object_fit": null,
            "object_position": null,
            "order": null,
            "overflow": null,
            "overflow_x": null,
            "overflow_y": null,
            "padding": null,
            "right": null,
            "top": null,
            "visibility": null,
            "width": null
          }
        },
        "0a917653e1274148929a49a15e456038": {
          "model_module": "@jupyter-widgets/base",
          "model_name": "LayoutModel",
          "model_module_version": "1.2.0",
          "state": {
            "_model_module": "@jupyter-widgets/base",
            "_model_module_version": "1.2.0",
            "_model_name": "LayoutModel",
            "_view_count": null,
            "_view_module": "@jupyter-widgets/base",
            "_view_module_version": "1.2.0",
            "_view_name": "LayoutView",
            "align_content": null,
            "align_items": null,
            "align_self": null,
            "border": null,
            "bottom": null,
            "display": null,
            "flex": null,
            "flex_flow": null,
            "grid_area": null,
            "grid_auto_columns": null,
            "grid_auto_flow": null,
            "grid_auto_rows": null,
            "grid_column": null,
            "grid_gap": null,
            "grid_row": null,
            "grid_template_areas": null,
            "grid_template_columns": null,
            "grid_template_rows": null,
            "height": null,
            "justify_content": null,
            "justify_items": null,
            "left": null,
            "margin": null,
            "max_height": null,
            "max_width": null,
            "min_height": null,
            "min_width": null,
            "object_fit": null,
            "object_position": null,
            "order": null,
            "overflow": null,
            "overflow_x": null,
            "overflow_y": null,
            "padding": null,
            "right": null,
            "top": null,
            "visibility": null,
            "width": null
          }
        },
        "a05a7f311f0848bea8d84ef091ff4b76": {
          "model_module": "@jupyter-widgets/controls",
          "model_name": "DescriptionStyleModel",
          "model_module_version": "1.5.0",
          "state": {
            "_model_module": "@jupyter-widgets/controls",
            "_model_module_version": "1.5.0",
            "_model_name": "DescriptionStyleModel",
            "_view_count": null,
            "_view_module": "@jupyter-widgets/base",
            "_view_module_version": "1.2.0",
            "_view_name": "StyleView",
            "description_width": ""
          }
        }
      }
    }
  },
  "cells": [
    {
      "cell_type": "code",
      "execution_count": 3,
      "metadata": {
        "colab": {
          "base_uri": "https://localhost:8080/"
        },
        "id": "bCpaW2BxACoU",
        "outputId": "dfe70aca-2e26-4120-d9e6-bb809f347cdf"
      },
      "outputs": [
        {
          "output_type": "stream",
          "name": "stdout",
          "text": [
            "\u001b[2K     \u001b[90m━━━━━━━━━━━━━━━━━━━━━━━━━━━━━━━━━━━━━━━━\u001b[0m \u001b[32m719.8/719.8 kB\u001b[0m \u001b[31m6.1 MB/s\u001b[0m eta \u001b[36m0:00:00\u001b[0m\n",
            "\u001b[2K     \u001b[90m━━━━━━━━━━━━━━━━━━━━━━━━━━━━━━━━━━━━━━━━\u001b[0m \u001b[32m507.1/507.1 kB\u001b[0m \u001b[31m9.3 MB/s\u001b[0m eta \u001b[36m0:00:00\u001b[0m\n",
            "\u001b[2K     \u001b[90m━━━━━━━━━━━━━━━━━━━━━━━━━━━━━━━━━━━━━━━━\u001b[0m \u001b[32m1.3/1.3 MB\u001b[0m \u001b[31m12.0 MB/s\u001b[0m eta \u001b[36m0:00:00\u001b[0m\n",
            "\u001b[2K     \u001b[90m━━━━━━━━━━━━━━━━━━━━━━━━━━━━━━━━━━━━━━━━\u001b[0m \u001b[32m115.3/115.3 kB\u001b[0m \u001b[31m13.9 MB/s\u001b[0m eta \u001b[36m0:00:00\u001b[0m\n",
            "\u001b[2K     \u001b[90m━━━━━━━━━━━━━━━━━━━━━━━━━━━━━━━━━━━━━━━━\u001b[0m \u001b[32m134.8/134.8 kB\u001b[0m \u001b[31m14.7 MB/s\u001b[0m eta \u001b[36m0:00:00\u001b[0m\n",
            "\u001b[2K     \u001b[90m━━━━━━━━━━━━━━━━━━━━━━━━━━━━━━━━━━━━━━━━\u001b[0m \u001b[32m1.6/1.6 MB\u001b[0m \u001b[31m16.7 MB/s\u001b[0m eta \u001b[36m0:00:00\u001b[0m\n",
            "\u001b[2K     \u001b[90m━━━━━━━━━━━━━━━━━━━━━━━━━━━━━━━━━━━━━━━━\u001b[0m \u001b[32m1.1/1.1 MB\u001b[0m \u001b[31m20.7 MB/s\u001b[0m eta \u001b[36m0:00:00\u001b[0m\n",
            "\u001b[2K     \u001b[90m━━━━━━━━━━━━━━━━━━━━━━━━━━━━━━━━━━━━━━━━\u001b[0m \u001b[32m133.5/133.5 kB\u001b[0m \u001b[31m14.9 MB/s\u001b[0m eta \u001b[36m0:00:00\u001b[0m\n",
            "\u001b[?25hMounted at /content/gdrive\n"
          ]
        }
      ],
      "source": [
        "#hide\n",
        "! [ -e /content ] && pip install -Uqq fastbook\n",
        "import fastbook\n",
        "fastbook.setup_book()"
      ]
    },
    {
      "cell_type": "code",
      "source": [
        "#hide\n",
        "from fastbook import *\n",
        "from fastai.vision.widgets import *"
      ],
      "metadata": {
        "id": "koALCaylB88v"
      },
      "execution_count": 4,
      "outputs": []
    },
    {
      "cell_type": "code",
      "source": [
        "!pip install voila\n",
        "!jupyter serverextension enable --sys-prefix voila"
      ],
      "metadata": {
        "colab": {
          "base_uri": "https://localhost:8080/"
        },
        "id": "9P5zLw9jAJoS",
        "outputId": "117dee86-6b67-4917-a7d0-5af171f75322"
      },
      "execution_count": 5,
      "outputs": [
        {
          "output_type": "stream",
          "name": "stdout",
          "text": [
            "Requirement already satisfied: voila in /usr/local/lib/python3.10/dist-packages (0.5.5)\n",
            "Requirement already satisfied: jupyter-client<9,>=7.4.4 in /usr/local/lib/python3.10/dist-packages (from voila) (7.4.9)\n",
            "Requirement already satisfied: jupyter-core>=4.11.0 in /usr/local/lib/python3.10/dist-packages (from voila) (5.5.1)\n",
            "Requirement already satisfied: jupyter-server<3,>=2.0.0 in /usr/local/lib/python3.10/dist-packages (from voila) (2.12.2)\n",
            "Requirement already satisfied: jupyterlab-server<3,>=2.3.0 in /usr/local/lib/python3.10/dist-packages (from voila) (2.25.2)\n",
            "Requirement already satisfied: nbclient<0.8,>=0.4.0 in /usr/local/lib/python3.10/dist-packages (from voila) (0.7.4)\n",
            "Requirement already satisfied: nbconvert<8,>=6.4.5 in /usr/local/lib/python3.10/dist-packages (from voila) (6.5.4)\n",
            "Requirement already satisfied: traitlets<6,>=5.0.3 in /usr/local/lib/python3.10/dist-packages (from voila) (5.7.1)\n",
            "Requirement already satisfied: websockets>=9.0 in /usr/local/lib/python3.10/dist-packages (from voila) (12.0)\n",
            "Requirement already satisfied: entrypoints in /usr/local/lib/python3.10/dist-packages (from jupyter-client<9,>=7.4.4->voila) (0.4)\n",
            "Requirement already satisfied: nest-asyncio>=1.5.4 in /usr/local/lib/python3.10/dist-packages (from jupyter-client<9,>=7.4.4->voila) (1.5.8)\n",
            "Requirement already satisfied: python-dateutil>=2.8.2 in /usr/local/lib/python3.10/dist-packages (from jupyter-client<9,>=7.4.4->voila) (2.8.2)\n",
            "Requirement already satisfied: pyzmq>=23.0 in /usr/local/lib/python3.10/dist-packages (from jupyter-client<9,>=7.4.4->voila) (24.0.1)\n",
            "Requirement already satisfied: tornado>=6.2 in /usr/local/lib/python3.10/dist-packages (from jupyter-client<9,>=7.4.4->voila) (6.3.2)\n",
            "Requirement already satisfied: platformdirs>=2.5 in /usr/local/lib/python3.10/dist-packages (from jupyter-core>=4.11.0->voila) (4.1.0)\n",
            "Requirement already satisfied: anyio>=3.1.0 in /usr/local/lib/python3.10/dist-packages (from jupyter-server<3,>=2.0.0->voila) (3.7.1)\n",
            "Requirement already satisfied: argon2-cffi in /usr/local/lib/python3.10/dist-packages (from jupyter-server<3,>=2.0.0->voila) (23.1.0)\n",
            "Requirement already satisfied: jinja2 in /usr/local/lib/python3.10/dist-packages (from jupyter-server<3,>=2.0.0->voila) (3.1.2)\n",
            "Requirement already satisfied: jupyter-events>=0.9.0 in /usr/local/lib/python3.10/dist-packages (from jupyter-server<3,>=2.0.0->voila) (0.9.0)\n",
            "Requirement already satisfied: jupyter-server-terminals in /usr/local/lib/python3.10/dist-packages (from jupyter-server<3,>=2.0.0->voila) (0.5.1)\n",
            "Requirement already satisfied: nbformat>=5.3.0 in /usr/local/lib/python3.10/dist-packages (from jupyter-server<3,>=2.0.0->voila) (5.9.2)\n",
            "Requirement already satisfied: overrides in /usr/local/lib/python3.10/dist-packages (from jupyter-server<3,>=2.0.0->voila) (7.4.0)\n",
            "Requirement already satisfied: packaging in /usr/local/lib/python3.10/dist-packages (from jupyter-server<3,>=2.0.0->voila) (23.2)\n",
            "Requirement already satisfied: prometheus-client in /usr/local/lib/python3.10/dist-packages (from jupyter-server<3,>=2.0.0->voila) (0.19.0)\n",
            "Requirement already satisfied: send2trash>=1.8.2 in /usr/local/lib/python3.10/dist-packages (from jupyter-server<3,>=2.0.0->voila) (1.8.2)\n",
            "Requirement already satisfied: terminado>=0.8.3 in /usr/local/lib/python3.10/dist-packages (from jupyter-server<3,>=2.0.0->voila) (0.18.0)\n",
            "Requirement already satisfied: websocket-client in /usr/local/lib/python3.10/dist-packages (from jupyter-server<3,>=2.0.0->voila) (1.7.0)\n",
            "Requirement already satisfied: babel>=2.10 in /usr/local/lib/python3.10/dist-packages (from jupyterlab-server<3,>=2.3.0->voila) (2.14.0)\n",
            "Requirement already satisfied: json5>=0.9.0 in /usr/local/lib/python3.10/dist-packages (from jupyterlab-server<3,>=2.3.0->voila) (0.9.14)\n",
            "Requirement already satisfied: jsonschema>=4.18.0 in /usr/local/lib/python3.10/dist-packages (from jupyterlab-server<3,>=2.3.0->voila) (4.19.2)\n",
            "Requirement already satisfied: requests>=2.31 in /usr/local/lib/python3.10/dist-packages (from jupyterlab-server<3,>=2.3.0->voila) (2.31.0)\n",
            "Requirement already satisfied: lxml in /usr/local/lib/python3.10/dist-packages (from nbconvert<8,>=6.4.5->voila) (4.9.4)\n",
            "Requirement already satisfied: beautifulsoup4 in /usr/local/lib/python3.10/dist-packages (from nbconvert<8,>=6.4.5->voila) (4.11.2)\n",
            "Requirement already satisfied: bleach in /usr/local/lib/python3.10/dist-packages (from nbconvert<8,>=6.4.5->voila) (6.1.0)\n",
            "Requirement already satisfied: defusedxml in /usr/local/lib/python3.10/dist-packages (from nbconvert<8,>=6.4.5->voila) (0.7.1)\n",
            "Requirement already satisfied: jupyterlab-pygments in /usr/local/lib/python3.10/dist-packages (from nbconvert<8,>=6.4.5->voila) (0.3.0)\n",
            "Requirement already satisfied: MarkupSafe>=2.0 in /usr/local/lib/python3.10/dist-packages (from nbconvert<8,>=6.4.5->voila) (2.1.3)\n",
            "Requirement already satisfied: mistune<2,>=0.8.1 in /usr/local/lib/python3.10/dist-packages (from nbconvert<8,>=6.4.5->voila) (0.8.4)\n",
            "Requirement already satisfied: pandocfilters>=1.4.1 in /usr/local/lib/python3.10/dist-packages (from nbconvert<8,>=6.4.5->voila) (1.5.0)\n",
            "Requirement already satisfied: pygments>=2.4.1 in /usr/local/lib/python3.10/dist-packages (from nbconvert<8,>=6.4.5->voila) (2.16.1)\n",
            "Requirement already satisfied: tinycss2 in /usr/local/lib/python3.10/dist-packages (from nbconvert<8,>=6.4.5->voila) (1.2.1)\n",
            "Requirement already satisfied: idna>=2.8 in /usr/local/lib/python3.10/dist-packages (from anyio>=3.1.0->jupyter-server<3,>=2.0.0->voila) (3.6)\n",
            "Requirement already satisfied: sniffio>=1.1 in /usr/local/lib/python3.10/dist-packages (from anyio>=3.1.0->jupyter-server<3,>=2.0.0->voila) (1.3.0)\n",
            "Requirement already satisfied: exceptiongroup in /usr/local/lib/python3.10/dist-packages (from anyio>=3.1.0->jupyter-server<3,>=2.0.0->voila) (1.2.0)\n",
            "Requirement already satisfied: attrs>=22.2.0 in /usr/local/lib/python3.10/dist-packages (from jsonschema>=4.18.0->jupyterlab-server<3,>=2.3.0->voila) (23.1.0)\n",
            "Requirement already satisfied: jsonschema-specifications>=2023.03.6 in /usr/local/lib/python3.10/dist-packages (from jsonschema>=4.18.0->jupyterlab-server<3,>=2.3.0->voila) (2023.11.2)\n",
            "Requirement already satisfied: referencing>=0.28.4 in /usr/local/lib/python3.10/dist-packages (from jsonschema>=4.18.0->jupyterlab-server<3,>=2.3.0->voila) (0.32.0)\n",
            "Requirement already satisfied: rpds-py>=0.7.1 in /usr/local/lib/python3.10/dist-packages (from jsonschema>=4.18.0->jupyterlab-server<3,>=2.3.0->voila) (0.15.2)\n",
            "Requirement already satisfied: python-json-logger>=2.0.4 in /usr/local/lib/python3.10/dist-packages (from jupyter-events>=0.9.0->jupyter-server<3,>=2.0.0->voila) (2.0.7)\n",
            "Requirement already satisfied: pyyaml>=5.3 in /usr/local/lib/python3.10/dist-packages (from jupyter-events>=0.9.0->jupyter-server<3,>=2.0.0->voila) (6.0.1)\n",
            "Requirement already satisfied: rfc3339-validator in /usr/local/lib/python3.10/dist-packages (from jupyter-events>=0.9.0->jupyter-server<3,>=2.0.0->voila) (0.1.4)\n",
            "Requirement already satisfied: rfc3986-validator>=0.1.1 in /usr/local/lib/python3.10/dist-packages (from jupyter-events>=0.9.0->jupyter-server<3,>=2.0.0->voila) (0.1.1)\n",
            "Requirement already satisfied: fastjsonschema in /usr/local/lib/python3.10/dist-packages (from nbformat>=5.3.0->jupyter-server<3,>=2.0.0->voila) (2.19.0)\n",
            "Requirement already satisfied: six>=1.5 in /usr/local/lib/python3.10/dist-packages (from python-dateutil>=2.8.2->jupyter-client<9,>=7.4.4->voila) (1.16.0)\n",
            "Requirement already satisfied: charset-normalizer<4,>=2 in /usr/local/lib/python3.10/dist-packages (from requests>=2.31->jupyterlab-server<3,>=2.3.0->voila) (3.3.2)\n",
            "Requirement already satisfied: urllib3<3,>=1.21.1 in /usr/local/lib/python3.10/dist-packages (from requests>=2.31->jupyterlab-server<3,>=2.3.0->voila) (2.0.7)\n",
            "Requirement already satisfied: certifi>=2017.4.17 in /usr/local/lib/python3.10/dist-packages (from requests>=2.31->jupyterlab-server<3,>=2.3.0->voila) (2023.11.17)\n",
            "Requirement already satisfied: ptyprocess in /usr/local/lib/python3.10/dist-packages (from terminado>=0.8.3->jupyter-server<3,>=2.0.0->voila) (0.7.0)\n",
            "Requirement already satisfied: argon2-cffi-bindings in /usr/local/lib/python3.10/dist-packages (from argon2-cffi->jupyter-server<3,>=2.0.0->voila) (21.2.0)\n",
            "Requirement already satisfied: soupsieve>1.2 in /usr/local/lib/python3.10/dist-packages (from beautifulsoup4->nbconvert<8,>=6.4.5->voila) (2.5)\n",
            "Requirement already satisfied: webencodings in /usr/local/lib/python3.10/dist-packages (from bleach->nbconvert<8,>=6.4.5->voila) (0.5.1)\n",
            "Requirement already satisfied: fqdn in /usr/local/lib/python3.10/dist-packages (from jsonschema>=4.18.0->jupyterlab-server<3,>=2.3.0->voila) (1.5.1)\n",
            "Requirement already satisfied: isoduration in /usr/local/lib/python3.10/dist-packages (from jsonschema>=4.18.0->jupyterlab-server<3,>=2.3.0->voila) (20.11.0)\n",
            "Requirement already satisfied: jsonpointer>1.13 in /usr/local/lib/python3.10/dist-packages (from jsonschema>=4.18.0->jupyterlab-server<3,>=2.3.0->voila) (2.4)\n",
            "Requirement already satisfied: uri-template in /usr/local/lib/python3.10/dist-packages (from jsonschema>=4.18.0->jupyterlab-server<3,>=2.3.0->voila) (1.3.0)\n",
            "Requirement already satisfied: webcolors>=1.11 in /usr/local/lib/python3.10/dist-packages (from jsonschema>=4.18.0->jupyterlab-server<3,>=2.3.0->voila) (1.13)\n",
            "Requirement already satisfied: cffi>=1.0.1 in /usr/local/lib/python3.10/dist-packages (from argon2-cffi-bindings->argon2-cffi->jupyter-server<3,>=2.0.0->voila) (1.16.0)\n",
            "Requirement already satisfied: pycparser in /usr/local/lib/python3.10/dist-packages (from cffi>=1.0.1->argon2-cffi-bindings->argon2-cffi->jupyter-server<3,>=2.0.0->voila) (2.21)\n",
            "Requirement already satisfied: arrow>=0.15.0 in /usr/local/lib/python3.10/dist-packages (from isoduration->jsonschema>=4.18.0->jupyterlab-server<3,>=2.3.0->voila) (1.3.0)\n",
            "Requirement already satisfied: types-python-dateutil>=2.8.10 in /usr/local/lib/python3.10/dist-packages (from arrow>=0.15.0->isoduration->jsonschema>=4.18.0->jupyterlab-server<3,>=2.3.0->voila) (2.8.19.14)\n",
            "Enabling: voila\n",
            "- Writing config: /usr/etc/jupyter\n",
            "    - Validating...\n",
            "      voila 0.5.5 \u001b[32mOK\u001b[0m\n"
          ]
        }
      ]
    },
    {
      "cell_type": "code",
      "source": [
        "path = Path()\n",
        "path.ls(file_exts='.pkl')"
      ],
      "metadata": {
        "colab": {
          "base_uri": "https://localhost:8080/"
        },
        "id": "v_odmC2HB5tL",
        "outputId": "fc489b5b-4ff0-401e-ace9-eec4694c8649"
      },
      "execution_count": 6,
      "outputs": [
        {
          "output_type": "execute_result",
          "data": {
            "text/plain": [
              "(#1) [Path('export.pkl')]"
            ]
          },
          "metadata": {},
          "execution_count": 6
        }
      ]
    },
    {
      "cell_type": "code",
      "source": [
        "learn_inf = load_learner(path/'export.pkl')"
      ],
      "metadata": {
        "id": "x-RjjuVgBy9Y"
      },
      "execution_count": 7,
      "outputs": []
    },
    {
      "cell_type": "code",
      "source": [
        "#hide_output\n",
        "btn_upload = widgets.FileUpload()\n",
        "btn_upload"
      ],
      "metadata": {
        "colab": {
          "base_uri": "https://localhost:8080/",
          "height": 49,
          "referenced_widgets": [
            "8612dfb627e249188980b85c831cd4df",
            "c88f1df7fd88492b950b6cdae3651ea1",
            "2ecb4f712c884d188b997a260f1896da"
          ]
        },
        "id": "ChKZZqJ6AvQ4",
        "outputId": "7da30ae2-9187-4a92-d854-4d237d8653b9"
      },
      "execution_count": 8,
      "outputs": [
        {
          "output_type": "display_data",
          "data": {
            "text/plain": [
              "FileUpload(value={}, description='Upload')"
            ],
            "application/vnd.jupyter.widget-view+json": {
              "version_major": 2,
              "version_minor": 0,
              "model_id": "8612dfb627e249188980b85c831cd4df"
            }
          },
          "metadata": {}
        }
      ]
    },
    {
      "cell_type": "code",
      "source": [
        "img = PILImage.create(btn_upload.data[-1])"
      ],
      "metadata": {
        "id": "cGlRjAu2ChCM"
      },
      "execution_count": 11,
      "outputs": []
    },
    {
      "cell_type": "code",
      "source": [
        "#hide_output\n",
        "out_pl = widgets.Output()\n",
        "out_pl.clear_output()\n",
        "with out_pl: display(img.to_thumb(128,128))\n",
        "out_pl"
      ],
      "metadata": {
        "colab": {
          "base_uri": "https://localhost:8080/",
          "height": 102,
          "referenced_widgets": [
            "ea5d083a70eb4599af832c89a990fd5b",
            "52d64c0835ba4b4d8dfb3aa5c18aaf97"
          ]
        },
        "id": "wwELW7H3Aylp",
        "outputId": "2e172b42-24bc-4a86-8ecb-cd3614e5d01c"
      },
      "execution_count": 12,
      "outputs": [
        {
          "output_type": "display_data",
          "data": {
            "text/plain": [
              "Output()"
            ],
            "application/vnd.jupyter.widget-view+json": {
              "version_major": 2,
              "version_minor": 0,
              "model_id": "ea5d083a70eb4599af832c89a990fd5b"
            }
          },
          "metadata": {}
        }
      ]
    },
    {
      "cell_type": "code",
      "source": [
        "pred,pred_idx,probs = learn_inf.predict(img)"
      ],
      "metadata": {
        "colab": {
          "base_uri": "https://localhost:8080/",
          "height": 73
        },
        "id": "8BJZXfI1BYFp",
        "outputId": "991b2d7d-4630-4706-b98c-463407dc0b7b"
      },
      "execution_count": 13,
      "outputs": [
        {
          "output_type": "stream",
          "name": "stderr",
          "text": [
            "/usr/local/lib/python3.10/dist-packages/fastai/torch_core.py:263: UserWarning: 'has_mps' is deprecated, please use 'torch.backends.mps.is_built()'\n",
            "  return getattr(torch, 'has_mps', False)\n"
          ]
        },
        {
          "output_type": "display_data",
          "data": {
            "text/plain": [
              "<IPython.core.display.HTML object>"
            ],
            "text/html": [
              "\n",
              "<style>\n",
              "    /* Turns off some styling */\n",
              "    progress {\n",
              "        /* gets rid of default border in Firefox and Opera. */\n",
              "        border: none;\n",
              "        /* Needs to be in here for Safari polyfill so background images work as expected. */\n",
              "        background-size: auto;\n",
              "    }\n",
              "    progress:not([value]), progress:not([value])::-webkit-progress-bar {\n",
              "        background: repeating-linear-gradient(45deg, #7e7e7e, #7e7e7e 10px, #5c5c5c 10px, #5c5c5c 20px);\n",
              "    }\n",
              "    .progress-bar-interrupted, .progress-bar-interrupted::-webkit-progress-bar {\n",
              "        background: #F44336;\n",
              "    }\n",
              "</style>\n"
            ]
          },
          "metadata": {}
        },
        {
          "output_type": "display_data",
          "data": {
            "text/plain": [
              "<IPython.core.display.HTML object>"
            ],
            "text/html": []
          },
          "metadata": {}
        }
      ]
    },
    {
      "cell_type": "code",
      "source": [
        "#hide_output\n",
        "lbl_pred = widgets.Label()\n",
        "lbl_pred.value = f'Prediction: {pred}; Probability: {probs[pred_idx]:.04f}'\n",
        "lbl_pred"
      ],
      "metadata": {
        "colab": {
          "base_uri": "https://localhost:8080/",
          "height": 49,
          "referenced_widgets": [
            "c3c832b1df5e40858d952217f45294d3",
            "10ad9507b8a949ea80dc6eaf4485ea0a",
            "29544fd9fda74c36b1dbce51fb25ef31"
          ]
        },
        "id": "TqJS7CpCAzqI",
        "outputId": "18780b0f-8f86-440a-9b77-f97b257def22"
      },
      "execution_count": 14,
      "outputs": [
        {
          "output_type": "display_data",
          "data": {
            "text/plain": [
              "Label(value='Prediction: grizzly; Probability: 0.9983')"
            ],
            "application/vnd.jupyter.widget-view+json": {
              "version_major": 2,
              "version_minor": 0,
              "model_id": "c3c832b1df5e40858d952217f45294d3"
            }
          },
          "metadata": {}
        }
      ]
    },
    {
      "cell_type": "code",
      "source": [
        "#hide_output\n",
        "btn_run = widgets.Button(description='Classify')\n",
        "btn_run"
      ],
      "metadata": {
        "colab": {
          "base_uri": "https://localhost:8080/",
          "height": 49,
          "referenced_widgets": [
            "d3f927a655ac4cc1880e1af16babec98",
            "5c366358fdaf4891b66396f79418bc8e",
            "cffe0182bef14a089db58b4a2dad4a82"
          ]
        },
        "id": "_FPCfO5WAz1v",
        "outputId": "f8963043-c93a-4d7a-e3c4-4c7acddeaade"
      },
      "execution_count": 15,
      "outputs": [
        {
          "output_type": "display_data",
          "data": {
            "text/plain": [
              "Button(description='Classify', style=ButtonStyle())"
            ],
            "application/vnd.jupyter.widget-view+json": {
              "version_major": 2,
              "version_minor": 0,
              "model_id": "d3f927a655ac4cc1880e1af16babec98"
            }
          },
          "metadata": {}
        }
      ]
    },
    {
      "cell_type": "code",
      "source": [
        "def on_click_classify(change):\n",
        "    img = PILImage.create(btn_upload.data[-1])\n",
        "    out_pl.clear_output()\n",
        "    with out_pl: display(img.to_thumb(128,128))\n",
        "    pred,pred_idx,probs = learn_inf.predict(img)\n",
        "    lbl_pred.value = f'Prediction: {pred}; Probability: {probs[pred_idx]:.04f}'\n",
        "\n",
        "btn_run.on_click(on_click_classify)"
      ],
      "metadata": {
        "id": "XVd-yhSdBKaW"
      },
      "execution_count": 16,
      "outputs": []
    },
    {
      "cell_type": "code",
      "source": [
        "#hide_output\n",
        "VBox([widgets.Label('Select your bear!'),\n",
        "      btn_upload, btn_run, out_pl, lbl_pred])"
      ],
      "metadata": {
        "colab": {
          "base_uri": "https://localhost:8080/",
          "height": 230,
          "referenced_widgets": [
            "ba3854562e9643c1b6cf0a7c81942ca5",
            "ea01157ce7a74a4ab745bae5cb92c6a2",
            "8612dfb627e249188980b85c831cd4df",
            "d3f927a655ac4cc1880e1af16babec98",
            "ea5d083a70eb4599af832c89a990fd5b",
            "c3c832b1df5e40858d952217f45294d3",
            "78c88cacfcbe465e9b8e9128f4430c68",
            "0a917653e1274148929a49a15e456038",
            "a05a7f311f0848bea8d84ef091ff4b76",
            "c88f1df7fd88492b950b6cdae3651ea1",
            "2ecb4f712c884d188b997a260f1896da",
            "5c366358fdaf4891b66396f79418bc8e",
            "cffe0182bef14a089db58b4a2dad4a82",
            "10ad9507b8a949ea80dc6eaf4485ea0a",
            "29544fd9fda74c36b1dbce51fb25ef31",
            "52d64c0835ba4b4d8dfb3aa5c18aaf97"
          ]
        },
        "id": "jdJ22F2bBSMH",
        "outputId": "1a29498a-81e4-449e-ee91-86038faf416a"
      },
      "execution_count": 17,
      "outputs": [
        {
          "output_type": "display_data",
          "data": {
            "text/plain": [
              "VBox(children=(Label(value='Select your bear!'), FileUpload(value={'grizzly.jpg': {'metadata': {'name': 'grizz…"
            ],
            "application/vnd.jupyter.widget-view+json": {
              "version_major": 2,
              "version_minor": 0,
              "model_id": "ba3854562e9643c1b6cf0a7c81942ca5"
            }
          },
          "metadata": {}
        },
        {
          "output_type": "display_data",
          "data": {
            "text/plain": [
              "<IPython.core.display.HTML object>"
            ],
            "text/html": [
              "\n",
              "<style>\n",
              "    /* Turns off some styling */\n",
              "    progress {\n",
              "        /* gets rid of default border in Firefox and Opera. */\n",
              "        border: none;\n",
              "        /* Needs to be in here for Safari polyfill so background images work as expected. */\n",
              "        background-size: auto;\n",
              "    }\n",
              "    progress:not([value]), progress:not([value])::-webkit-progress-bar {\n",
              "        background: repeating-linear-gradient(45deg, #7e7e7e, #7e7e7e 10px, #5c5c5c 10px, #5c5c5c 20px);\n",
              "    }\n",
              "    .progress-bar-interrupted, .progress-bar-interrupted::-webkit-progress-bar {\n",
              "        background: #F44336;\n",
              "    }\n",
              "</style>\n"
            ]
          },
          "metadata": {}
        },
        {
          "output_type": "display_data",
          "data": {
            "text/plain": [
              "<IPython.core.display.HTML object>"
            ],
            "text/html": []
          },
          "metadata": {}
        },
        {
          "output_type": "display_data",
          "data": {
            "text/plain": [
              "<IPython.core.display.HTML object>"
            ],
            "text/html": [
              "\n",
              "<style>\n",
              "    /* Turns off some styling */\n",
              "    progress {\n",
              "        /* gets rid of default border in Firefox and Opera. */\n",
              "        border: none;\n",
              "        /* Needs to be in here for Safari polyfill so background images work as expected. */\n",
              "        background-size: auto;\n",
              "    }\n",
              "    progress:not([value]), progress:not([value])::-webkit-progress-bar {\n",
              "        background: repeating-linear-gradient(45deg, #7e7e7e, #7e7e7e 10px, #5c5c5c 10px, #5c5c5c 20px);\n",
              "    }\n",
              "    .progress-bar-interrupted, .progress-bar-interrupted::-webkit-progress-bar {\n",
              "        background: #F44336;\n",
              "    }\n",
              "</style>\n"
            ]
          },
          "metadata": {}
        },
        {
          "output_type": "display_data",
          "data": {
            "text/plain": [
              "<IPython.core.display.HTML object>"
            ],
            "text/html": []
          },
          "metadata": {}
        },
        {
          "output_type": "display_data",
          "data": {
            "text/plain": [
              "<IPython.core.display.HTML object>"
            ],
            "text/html": [
              "\n",
              "<style>\n",
              "    /* Turns off some styling */\n",
              "    progress {\n",
              "        /* gets rid of default border in Firefox and Opera. */\n",
              "        border: none;\n",
              "        /* Needs to be in here for Safari polyfill so background images work as expected. */\n",
              "        background-size: auto;\n",
              "    }\n",
              "    progress:not([value]), progress:not([value])::-webkit-progress-bar {\n",
              "        background: repeating-linear-gradient(45deg, #7e7e7e, #7e7e7e 10px, #5c5c5c 10px, #5c5c5c 20px);\n",
              "    }\n",
              "    .progress-bar-interrupted, .progress-bar-interrupted::-webkit-progress-bar {\n",
              "        background: #F44336;\n",
              "    }\n",
              "</style>\n"
            ]
          },
          "metadata": {}
        },
        {
          "output_type": "display_data",
          "data": {
            "text/plain": [
              "<IPython.core.display.HTML object>"
            ],
            "text/html": []
          },
          "metadata": {}
        },
        {
          "output_type": "display_data",
          "data": {
            "text/plain": [
              "<IPython.core.display.HTML object>"
            ],
            "text/html": [
              "\n",
              "<style>\n",
              "    /* Turns off some styling */\n",
              "    progress {\n",
              "        /* gets rid of default border in Firefox and Opera. */\n",
              "        border: none;\n",
              "        /* Needs to be in here for Safari polyfill so background images work as expected. */\n",
              "        background-size: auto;\n",
              "    }\n",
              "    progress:not([value]), progress:not([value])::-webkit-progress-bar {\n",
              "        background: repeating-linear-gradient(45deg, #7e7e7e, #7e7e7e 10px, #5c5c5c 10px, #5c5c5c 20px);\n",
              "    }\n",
              "    .progress-bar-interrupted, .progress-bar-interrupted::-webkit-progress-bar {\n",
              "        background: #F44336;\n",
              "    }\n",
              "</style>\n"
            ]
          },
          "metadata": {}
        },
        {
          "output_type": "display_data",
          "data": {
            "text/plain": [
              "<IPython.core.display.HTML object>"
            ],
            "text/html": []
          },
          "metadata": {}
        }
      ]
    }
  ]
}